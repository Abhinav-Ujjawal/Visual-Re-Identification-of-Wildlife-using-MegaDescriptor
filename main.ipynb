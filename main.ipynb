{
 "cells": [
  {
   "cell_type": "code",
   "execution_count": 1,
   "metadata": {},
   "outputs": [
    {
     "name": "stdout",
     "output_type": "stream",
     "text": [
      "^C\n"
     ]
    }
   ],
   "source": [
    "# ! pip install wildlife-tools\n",
    "# ! pip install wildlife-datasets\n",
    "# ! git clone https://github.com/WildlifeDatasets/wildlife-tools"
   ]
  },
  {
   "cell_type": "code",
   "execution_count": 2,
   "metadata": {},
   "outputs": [
    {
     "name": "stdout",
     "output_type": "stream",
     "text": [
      "DATASET MacaqueFaces: DOWNLOADING STARTED.\n"
     ]
    },
    {
     "name": "stderr",
     "output_type": "stream",
     "text": [
      "MacaqueFaces.zip: 12.0MB [00:02, 5.52MB/s]                            \n",
      "MacaqueFaces_ImageInfo.csv: 410kB [00:00, 497kB/s]                             \n"
     ]
    },
    {
     "name": "stdout",
     "output_type": "stream",
     "text": [
      "DATASET MacaqueFaces: EXTRACTING STARTED.\n",
      "DATASET MacaqueFaces: FINISHED.\n",
      "\n"
     ]
    }
   ],
   "source": [
    "from wildlife_datasets import analysis, datasets, loader\n",
    "datasets.MacaqueFaces.get_data('data/MacaqueFaces')\n"
   ]
  },
  {
   "cell_type": "code",
   "execution_count": 3,
   "metadata": {},
   "outputs": [],
   "source": [
    "from wildlife_datasets.datasets import MacaqueFaces\n",
    "from wildlife_tools.data import WildlifeDataset\n",
    "import torchvision.transforms as T\n",
    "\n",
    "metadata = MacaqueFaces('data/MacaqueFaces')            # changed to data from datasets\n",
    "transform = T.Compose([T.Resize([224, 224]), T.ToTensor(), T.Normalize(mean=(0.485, 0.456, 0.406), std=(0.229, 0.224, 0.225))])\n",
    "dataset = WildlifeDataset(metadata.df, metadata.root, transform=transform)\n",
    "\n",
    "dataset_database = WildlifeDataset(metadata.df.iloc[100:,:], metadata.root, transform=transform)\n",
    "dataset_query = WildlifeDataset(metadata.df.iloc[:100,:], metadata.root, transform=transform)"
   ]
  },
  {
   "cell_type": "code",
   "execution_count": 1,
   "metadata": {},
   "outputs": [],
   "source": [
    "import numpy as np\n",
    "loaded_arr = np.load('database_variable.npy')\n",
    "database = loaded_arr"
   ]
  },
  {
   "cell_type": "code",
   "execution_count": 1,
   "metadata": {},
   "outputs": [
    {
     "name": "stderr",
     "output_type": "stream",
     "text": [
      "c:\\Python312\\Lib\\site-packages\\tqdm\\auto.py:21: TqdmWarning: IProgress not found. Please update jupyter and ipywidgets. See https://ipywidgets.readthedocs.io/en/stable/user_install.html\n",
      "  from .autonotebook import tqdm as notebook_tqdm\n"
     ]
    }
   ],
   "source": [
    "\n",
    "import timm\n",
    "import torch\n",
    "import torchvision.transforms as T\n",
    "\n",
    "from PIL import Image\n",
    "from urllib.request import urlopen\n",
    "\n",
    "model = timm.create_model(\"hf-hub:BVRA/MegaDescriptor-T-224\", pretrained=True)\n",
    "model = model.eval()\n",
    "\n",
    "train_transforms = T.Compose([T.Resize(size=(384, 384)),\n",
    "                              T.ToTensor(),\n",
    "                              T.Normalize([0.5, 0.5, 0.5], [0.5, 0.5, 0.5])])\n",
    "\n",
    "# for path in metadata.df.iloc[:100,:]['path']:\n",
    "#     print(path)\n",
    "#     break\n",
    "\n",
    "# img = Image.open('https://huggingface.co/datasets/huggingface/documentation-images/resolve/main/beignets-task-guide.png')\n",
    "\n",
    "# output = model(train_transforms(img).unsqueeze(0))  # output is (batch_size, num_features) shaped tensor\n",
    "# output is a (1, num_features) shaped tensor\n"
   ]
  },
  {
   "cell_type": "code",
   "execution_count": 11,
   "metadata": {},
   "outputs": [],
   "source": [
    "# metadata.df.iloc[:100,:]['path']"
   ]
  },
  {
   "cell_type": "code",
   "execution_count": null,
   "metadata": {},
   "outputs": [],
   "source": [
    "from tqdm import tqdm\n",
    "from PIL import Image\n",
    "\n",
    "import timm\n",
    "import torch\n",
    "import torchvision.transforms as T\n",
    "\n",
    "from PIL import Image\n",
    "from urllib.request import urlopen\n",
    "\n",
    "model = timm.create_model(\"hf-hub:BVRA/MegaDescriptor-T-224\", pretrained=True)\n",
    "model = model.eval()\n",
    "\n",
    "train_transforms = T.Compose([T.Resize(size=(384, 384)),\n",
    "                              T.ToTensor(),\n",
    "                              T.Normalize([0.5, 0.5, 0.5], [0.5, 0.5, 0.5])])\n"
   ]
  },
  {
   "cell_type": "code",
   "execution_count": 13,
   "metadata": {},
   "outputs": [
    {
     "data": {
      "text/plain": [
       "0     MacaqueFaces\\Contrast\\Dan\\Macaque_Face_1.jpg\n",
       "1     MacaqueFaces\\Contrast\\Dan\\Macaque_Face_2.jpg\n",
       "2     MacaqueFaces\\Contrast\\Dan\\Macaque_Face_3.jpg\n",
       "3     MacaqueFaces\\Contrast\\Dan\\Macaque_Face_4.jpg\n",
       "4     MacaqueFaces\\Contrast\\Dan\\Macaque_Face_5.jpg\n",
       "                          ...                     \n",
       "95     MacaqueFaces\\Random\\Dan\\Macaque_Face_96.jpg\n",
       "96     MacaqueFaces\\Random\\Dan\\Macaque_Face_97.jpg\n",
       "97     MacaqueFaces\\Random\\Dan\\Macaque_Face_98.jpg\n",
       "98     MacaqueFaces\\Random\\Dan\\Macaque_Face_99.jpg\n",
       "99    MacaqueFaces\\Random\\Dan\\Macaque_Face_100.jpg\n",
       "Name: path, Length: 100, dtype: object"
      ]
     },
     "execution_count": 13,
     "metadata": {},
     "output_type": "execute_result"
    }
   ],
   "source": [
    "metadata.df.iloc[:100,:]['path']"
   ]
  },
  {
   "cell_type": "code",
   "execution_count": 16,
   "metadata": {},
   "outputs": [
    {
     "name": "stderr",
     "output_type": "stream",
     "text": [
      "Processing images:  13%|█▎        | 13/100 [01:30<10:34,  7.29s/it]"
     ]
    },
    {
     "ename": "",
     "evalue": "",
     "output_type": "error",
     "traceback": [
      "\u001b[1;31mThe Kernel crashed while executing code in the the current cell or a previous cell. Please review the code in the cell(s) to identify a possible cause of the failure. Click <a href='https://aka.ms/vscodeJupyterKernelCrash'>here</a> for more info. View Jupyter <a href='command:jupyter.viewOutput'>log</a> for further details."
     ]
    }
   ],
   "source": [
    "\n",
    "outputs = []\n",
    "for path in tqdm(metadata.df.iloc[:100, :]['path'], desc='Processing images'):\n",
    "    img = Image.open(r'data\\MacaqueFaces\\\\' + path)\n",
    "    output = model(train_transforms(img).unsqueeze(0))\n",
    "    outputs.append(output)\n"
   ]
  },
  {
   "cell_type": "code",
   "execution_count": null,
   "metadata": {},
   "outputs": [
    {
     "ename": "KeyboardInterrupt",
     "evalue": "",
     "output_type": "error",
     "traceback": [
      "\u001b[1;31m---------------------------------------------------------------------------\u001b[0m",
      "\u001b[1;31mKeyboardInterrupt\u001b[0m                         Traceback (most recent call last)",
      "File \u001b[1;32m~\\AppData\\Roaming\\Python\\Python312\\site-packages\\IPython\\core\\async_helpers.py:129\u001b[0m, in \u001b[0;36m_pseudo_sync_runner\u001b[1;34m(coro)\u001b[0m\n\u001b[0;32m    121\u001b[0m \u001b[38;5;250m\u001b[39m\u001b[38;5;124;03m\"\"\"\u001b[39;00m\n\u001b[0;32m    122\u001b[0m \u001b[38;5;124;03mA runner that does not really allow async execution, and just advance the coroutine.\u001b[39;00m\n\u001b[0;32m    123\u001b[0m \n\u001b[1;32m   (...)\u001b[0m\n\u001b[0;32m    126\u001b[0m \u001b[38;5;124;03mCredit to Nathaniel Smith\u001b[39;00m\n\u001b[0;32m    127\u001b[0m \u001b[38;5;124;03m\"\"\"\u001b[39;00m\n\u001b[0;32m    128\u001b[0m \u001b[38;5;28;01mtry\u001b[39;00m:\n\u001b[1;32m--> 129\u001b[0m     \u001b[43mcoro\u001b[49m\u001b[38;5;241;43m.\u001b[39;49m\u001b[43msend\u001b[49m\u001b[43m(\u001b[49m\u001b[38;5;28;43;01mNone\u001b[39;49;00m\u001b[43m)\u001b[49m\n\u001b[0;32m    130\u001b[0m \u001b[38;5;28;01mexcept\u001b[39;00m \u001b[38;5;167;01mStopIteration\u001b[39;00m \u001b[38;5;28;01mas\u001b[39;00m exc:\n\u001b[0;32m    131\u001b[0m     \u001b[38;5;28;01mreturn\u001b[39;00m exc\u001b[38;5;241m.\u001b[39mvalue\n",
      "File \u001b[1;32m~\\AppData\\Roaming\\Python\\Python312\\site-packages\\IPython\\core\\interactiveshell.py:3278\u001b[0m, in \u001b[0;36mInteractiveShell.run_cell_async\u001b[1;34m(self, raw_cell, store_history, silent, shell_futures, transformed_cell, preprocessing_exc_tuple, cell_id)\u001b[0m\n\u001b[0;32m   3275\u001b[0m _run_async \u001b[38;5;241m=\u001b[39m \u001b[38;5;28;01mFalse\u001b[39;00m\n\u001b[0;32m   3277\u001b[0m \u001b[38;5;28;01mwith\u001b[39;00m \u001b[38;5;28mself\u001b[39m\u001b[38;5;241m.\u001b[39mbuiltin_trap:\n\u001b[1;32m-> 3278\u001b[0m     cell_name \u001b[38;5;241m=\u001b[39m \u001b[43mcompiler\u001b[49m\u001b[38;5;241;43m.\u001b[39;49m\u001b[43mcache\u001b[49m\u001b[43m(\u001b[49m\u001b[43mcell\u001b[49m\u001b[43m,\u001b[49m\u001b[43m \u001b[49m\u001b[38;5;28;43mself\u001b[39;49m\u001b[38;5;241;43m.\u001b[39;49m\u001b[43mexecution_count\u001b[49m\u001b[43m,\u001b[49m\u001b[43m \u001b[49m\u001b[43mraw_code\u001b[49m\u001b[38;5;241;43m=\u001b[39;49m\u001b[43mraw_cell\u001b[49m\u001b[43m)\u001b[49m\n\u001b[0;32m   3280\u001b[0m     \u001b[38;5;28;01mwith\u001b[39;00m \u001b[38;5;28mself\u001b[39m\u001b[38;5;241m.\u001b[39mdisplay_trap:\n\u001b[0;32m   3281\u001b[0m         \u001b[38;5;66;03m# Compile to bytecode\u001b[39;00m\n\u001b[0;32m   3282\u001b[0m         \u001b[38;5;28;01mtry\u001b[39;00m:\n",
      "File \u001b[1;32m~\\AppData\\Roaming\\Python\\Python312\\site-packages\\IPython\\core\\compilerop.py:155\u001b[0m, in \u001b[0;36mCachingCompiler.cache\u001b[1;34m(self, transformed_code, number, raw_code)\u001b[0m\n\u001b[0;32m    152\u001b[0m \u001b[38;5;28;01mif\u001b[39;00m raw_code \u001b[38;5;129;01mis\u001b[39;00m \u001b[38;5;28;01mNone\u001b[39;00m:\n\u001b[0;32m    153\u001b[0m     raw_code \u001b[38;5;241m=\u001b[39m transformed_code\n\u001b[1;32m--> 155\u001b[0m name \u001b[38;5;241m=\u001b[39m \u001b[38;5;28;43mself\u001b[39;49m\u001b[38;5;241;43m.\u001b[39;49m\u001b[43mget_code_name\u001b[49m\u001b[43m(\u001b[49m\u001b[43mraw_code\u001b[49m\u001b[43m,\u001b[49m\u001b[43m \u001b[49m\u001b[43mtransformed_code\u001b[49m\u001b[43m,\u001b[49m\u001b[43m \u001b[49m\u001b[43mnumber\u001b[49m\u001b[43m)\u001b[49m\n\u001b[0;32m    157\u001b[0m \u001b[38;5;66;03m# Save the execution count\u001b[39;00m\n\u001b[0;32m    158\u001b[0m \u001b[38;5;28mself\u001b[39m\u001b[38;5;241m.\u001b[39m_filename_map[name] \u001b[38;5;241m=\u001b[39m number\n",
      "File \u001b[1;32m~\\AppData\\Roaming\\Python\\Python312\\site-packages\\ipykernel\\compiler.py:105\u001b[0m, in \u001b[0;36mXCachingCompiler.get_code_name\u001b[1;34m(self, raw_code, code, number)\u001b[0m\n\u001b[0;32m    103\u001b[0m \u001b[38;5;28;01mdef\u001b[39;00m \u001b[38;5;21mget_code_name\u001b[39m(\u001b[38;5;28mself\u001b[39m, raw_code, code, number):\n\u001b[0;32m    104\u001b[0m \u001b[38;5;250m    \u001b[39m\u001b[38;5;124;03m\"\"\"Get the code name.\"\"\"\u001b[39;00m\n\u001b[1;32m--> 105\u001b[0m     \u001b[38;5;28;01mreturn\u001b[39;00m \u001b[43mget_file_name\u001b[49m\u001b[43m(\u001b[49m\u001b[43mraw_code\u001b[49m\u001b[43m)\u001b[49m\n",
      "File \u001b[1;32m~\\AppData\\Roaming\\Python\\Python312\\site-packages\\ipykernel\\compiler.py:91\u001b[0m, in \u001b[0;36mget_file_name\u001b[1;34m(code)\u001b[0m\n\u001b[0;32m     89\u001b[0m \u001b[38;5;28;01mif\u001b[39;00m cell_name \u001b[38;5;129;01mis\u001b[39;00m \u001b[38;5;28;01mNone\u001b[39;00m:\n\u001b[0;32m     90\u001b[0m     name \u001b[38;5;241m=\u001b[39m murmur2_x86(code, get_tmp_hash_seed())\n\u001b[1;32m---> 91\u001b[0m     cell_name \u001b[38;5;241m=\u001b[39m \u001b[43mget_tmp_directory\u001b[49m\u001b[43m(\u001b[49m\u001b[43m)\u001b[49m \u001b[38;5;241m+\u001b[39m os\u001b[38;5;241m.\u001b[39msep \u001b[38;5;241m+\u001b[39m \u001b[38;5;28mstr\u001b[39m(name) \u001b[38;5;241m+\u001b[39m \u001b[38;5;124m\"\u001b[39m\u001b[38;5;124m.py\u001b[39m\u001b[38;5;124m\"\u001b[39m\n\u001b[0;32m     92\u001b[0m \u001b[38;5;28;01mreturn\u001b[39;00m cell_name\n",
      "File \u001b[1;32m~\\AppData\\Roaming\\Python\\Python312\\site-packages\\ipykernel\\compiler.py:76\u001b[0m, in \u001b[0;36mget_tmp_directory\u001b[1;34m()\u001b[0m\n\u001b[0;32m     74\u001b[0m \u001b[38;5;28;01mdef\u001b[39;00m \u001b[38;5;21mget_tmp_directory\u001b[39m():\n\u001b[0;32m     75\u001b[0m \u001b[38;5;250m    \u001b[39m\u001b[38;5;124;03m\"\"\"Get a temp directory.\"\"\"\u001b[39;00m\n\u001b[1;32m---> 76\u001b[0m     tmp_dir \u001b[38;5;241m=\u001b[39m \u001b[43mconvert_to_long_pathname\u001b[49m\u001b[43m(\u001b[49m\u001b[43mtempfile\u001b[49m\u001b[38;5;241;43m.\u001b[39;49m\u001b[43mgettempdir\u001b[49m\u001b[43m(\u001b[49m\u001b[43m)\u001b[49m\u001b[43m)\u001b[49m\n\u001b[0;32m     77\u001b[0m     pid \u001b[38;5;241m=\u001b[39m os\u001b[38;5;241m.\u001b[39mgetpid()\n\u001b[0;32m     78\u001b[0m     \u001b[38;5;28;01mreturn\u001b[39;00m tmp_dir \u001b[38;5;241m+\u001b[39m os\u001b[38;5;241m.\u001b[39msep \u001b[38;5;241m+\u001b[39m \u001b[38;5;124m\"\u001b[39m\u001b[38;5;124mipykernel_\u001b[39m\u001b[38;5;124m\"\u001b[39m \u001b[38;5;241m+\u001b[39m \u001b[38;5;28mstr\u001b[39m(pid)\n",
      "File \u001b[1;32m~\\AppData\\Roaming\\Python\\Python312\\site-packages\\ipykernel\\compiler.py:61\u001b[0m, in \u001b[0;36m_convert_to_long_pathname\u001b[1;34m(filename)\u001b[0m\n\u001b[0;32m     59\u001b[0m \u001b[38;5;28;01mdef\u001b[39;00m \u001b[38;5;21m_convert_to_long_pathname\u001b[39m(filename):\n\u001b[0;32m     60\u001b[0m     buf \u001b[38;5;241m=\u001b[39m ctypes\u001b[38;5;241m.\u001b[39mcreate_unicode_buffer(MAX_PATH)\n\u001b[1;32m---> 61\u001b[0m     rv \u001b[38;5;241m=\u001b[39m \u001b[43m_GetLongPathName\u001b[49m\u001b[43m(\u001b[49m\u001b[43mfilename\u001b[49m\u001b[43m,\u001b[49m\u001b[43m \u001b[49m\u001b[43mbuf\u001b[49m\u001b[43m,\u001b[49m\u001b[43m \u001b[49m\u001b[43mMAX_PATH\u001b[49m\u001b[43m)\u001b[49m\n\u001b[0;32m     62\u001b[0m     \u001b[38;5;28;01mif\u001b[39;00m rv \u001b[38;5;241m!=\u001b[39m \u001b[38;5;241m0\u001b[39m \u001b[38;5;129;01mand\u001b[39;00m rv \u001b[38;5;241m<\u001b[39m\u001b[38;5;241m=\u001b[39m MAX_PATH:\n\u001b[0;32m     63\u001b[0m         filename \u001b[38;5;241m=\u001b[39m buf\u001b[38;5;241m.\u001b[39mvalue\n",
      "\u001b[1;31mKeyboardInterrupt\u001b[0m: "
     ]
    }
   ],
   "source": [
    "from wildlife_tools.data import FeatureDatabase\n",
    "from wildlife_tools.inference import KnnMatcher\n",
    "loaded_arr = np.load('database_variable.npy')\n",
    "database = loaded_arr\n",
    "# database = FeatureDatabase.from_file(\n",
    "# \"database_file\"\n",
    "# )\n",
    "# Extract features from query image\n",
    "# image = Image.open(\"./query_image.png\")\n",
    "# query = model(transforms(image).unsqueeze(0))\n",
    "# Find nearest match in database\n",
    "matcher = KnnMatcher(database)\n",
    "# matcher([outputs])\n",
    "\n",
    "matcher_output =[]\n",
    "for i in outputs:\n",
    "    matcher_output.append(matcher([i]))\n",
    "\n",
    "print(matcher_output)"
   ]
  },
  {
   "cell_type": "code",
   "execution_count": null,
   "metadata": {},
   "outputs": [],
   "source": []
  }
 ],
 "metadata": {
  "kernelspec": {
   "display_name": "Python 3",
   "language": "python",
   "name": "python3"
  },
  "language_info": {
   "codemirror_mode": {
    "name": "ipython",
    "version": 3
   },
   "file_extension": ".py",
   "mimetype": "text/x-python",
   "name": "python",
   "nbconvert_exporter": "python",
   "pygments_lexer": "ipython3",
   "version": "3.12.1"
  }
 },
 "nbformat": 4,
 "nbformat_minor": 2
}
