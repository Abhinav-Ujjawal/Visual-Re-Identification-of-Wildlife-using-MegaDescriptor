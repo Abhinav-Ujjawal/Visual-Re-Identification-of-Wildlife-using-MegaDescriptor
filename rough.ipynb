{
 "cells": [
  {
   "cell_type": "code",
   "execution_count": 21,
   "metadata": {},
   "outputs": [
    {
     "name": "stdout",
     "output_type": "stream",
     "text": [
      "data\\MPDD\\MPDD\\pytorch\\query\n"
     ]
    }
   ],
   "source": [
    "import sys\n",
    "# path = \"Project\\data\\MPDD\\MPDD\\pytorch\"\n",
    "\n",
    "import os\n",
    "import csv\n",
    "import random\n",
    "\n",
    "# Path to the folder containing subfolders with images\n",
    "path = r\"data\\MPDD\\MPDD\\pytorch\"\n",
    "\n",
    "# Define the train-test split ratio\n",
    "split_ratio = 0.8  # 80% for training, 20% for testing\n",
    "\n",
    "# List to store metadata entries\n",
    "metadata = []\n",
    "image_files = []\n",
    "# Iterate over each subfolder in the path\n",
    "for folder_name in os.listdir(path):\n",
    "    folder_path = os.path.join(path, folder_name)\n",
    "    if not os.path.isdir(folder_path):\n",
    "        continue\n",
    "    \n",
    "    # Get a list of all image files in the subfolder\n",
    "    l = [f for f in os.listdir(folder_path) if os.path.isfile(os.path.join(folder_path, f))]\n",
    "    image_files.append((folder_path,l))\n",
    "    # print(image_files)\n",
    "    # image_files.sort()\n",
    "# print(len(image_files))\n",
    "    # random.shuffle(image_files)  # Shuffle the list of image files\n",
    "print(image_files[0][0])\n",
    "# image_files[k][0]\n",
    "\n",
    "    # # Split the image files into training and testing sets\n",
    "# count each of the images based on their names\n",
    "l=[0]*167\n",
    "\n",
    "for i in image_files:\n",
    "    t = i.split('_')\n",
    "    l[int(t[0])]+=1\n",
    "\n",
    "# train_files = [int(k * split_ratio) for k in l]\n",
    "# l=[0]*167\n",
    "# for i in image_files:\n",
    "# test_files = [k - int(k * split_ratio) for k in l]\n",
    "# num_train = int(len(image_files) * split_ratio)\n",
    "# train_files = image_files[:num_train]\n",
    "# test_files = image_files[num_train:]\n",
    "\n",
    "# # Create metadata entries for training images\n",
    "# for image_file in train_files:\n",
    "#     # print(image_file)\n",
    "#     image_id = os.path.splitext(image_file)[0]  # Remove file extension to get image ID\n",
    "#     # print(image_id.split('_'))\n",
    "#     identity = int(image_id.split('_')[0])  # Extract identity from image ID\n",
    "#     image_path = os.path.join(folder_name, image_file)  # Relative path to the image\n",
    "#     metadata.append([image_id, identity, image_path, 'train'])\n",
    "\n",
    "# # Create metadata entries for testing images\n",
    "# for image_file in test_files:\n",
    "#     image_id = os.path.splitext(image_file)[0]  # Remove file extension to get image ID\n",
    "#     identity = int(image_id.split('_')[0])  # Extract identity from image ID\n",
    "#     image_path = os.path.join(folder_name, image_file)  # Relative path to the image\n",
    "#     metadata.append([image_id, identity, image_path, 'test'])\n",
    "\n",
    "# # Write metadata to a CSV file\n",
    "# with open('metadata\\datasets\\MPDD', 'w', newline='') as file:\n",
    "#     writer = csv.writer(file)\n",
    "#     writer.writerow(['image_id', 'identity', 'path', 'split'])\n",
    "#     writer.writerows(metadata)\n",
    "\n",
    "# print(\"Metadata created successfully.\")"
   ]
  },
  {
   "cell_type": "code",
   "execution_count": 8,
   "metadata": {},
   "outputs": [
    {
     "data": {
      "text/plain": [
       "'96_c6s2_7.jpg'"
      ]
     },
     "execution_count": 8,
     "metadata": {},
     "output_type": "execute_result"
    }
   ],
   "source": [
    "image_files[1656]"
   ]
  },
  {
   "cell_type": "code",
   "execution_count": 54,
   "metadata": {},
   "outputs": [
    {
     "name": "stdout",
     "output_type": "stream",
     "text": [
      "['11_c3s4_7', '11', 'MPDD\\\\pytorch\\\\gallery\\\\11_c3s4_7.jpg', 'train']\n"
     ]
    }
   ],
   "source": [
    "# read the metadata csv file\n",
    "with open(r'metadata.csv', 'r') as file:\n",
    "    reader = csv.reader(file)\n",
    "    metadata = list(reader)\n",
    "    print(metadata[1])\n",
    "# update the metadata file so that the path column lists the correct path to the image file. Add data\\MPDD\\MPDD\\pytorch to the beginning of each path.\n",
    "for i in range(1, len(metadata)):\n",
    "    # replace all \\\\ with /\n",
    "    metadata[i][2] = metadata[i][2].replace('\\\\', '/')\n",
    "    # metadata[i][2] = os.path.join(path, metadata[i][2])\n",
    "    # metadata[i][2] = metadata[i][2][10:]\n",
    "    \n",
    "\n",
    "train = 0\n",
    "test = 0\n",
    "for i in range(1, len(metadata)):\n",
    "    if metadata[i][3] == 'train':\n",
    "        train += 1\n",
    "    else:\n",
    "        test += 1"
   ]
  },
  {
   "cell_type": "code",
   "execution_count": 55,
   "metadata": {},
   "outputs": [
    {
     "name": "stdout",
     "output_type": "stream",
     "text": [
      "['11_c3s4_7', '11', 'MPDD/pytorch/gallery/11_c3s4_7.jpg', 'train']\n"
     ]
    }
   ],
   "source": [
    "print(metadata[1])"
   ]
  },
  {
   "cell_type": "code",
   "execution_count": 56,
   "metadata": {},
   "outputs": [
    {
     "data": {
      "text/plain": [
       "3.961077844311377"
      ]
     },
     "execution_count": 56,
     "metadata": {},
     "output_type": "execute_result"
    }
   ],
   "source": [
    "train/(1.0*test)"
   ]
  },
  {
   "cell_type": "code",
   "execution_count": 57,
   "metadata": {},
   "outputs": [],
   "source": [
    "# write the updated metadata to a new CSV file\n",
    "with open(r'metadata.csv', 'w', newline='') as file:\n",
    "    writer = csv.writer(file)\n",
    "    writer.writerows(metadata)"
   ]
  },
  {
   "cell_type": "code",
   "execution_count": null,
   "metadata": {},
   "outputs": [],
   "source": []
  },
  {
   "cell_type": "code",
   "execution_count": 36,
   "metadata": {},
   "outputs": [],
   "source": [
    "\n",
    "import os\n",
    "\n",
    "def remove_duplicate_extension(folder_path):\n",
    "    files = os.listdir(folder_path)\n",
    "    for filename in files:\n",
    "        if filename.endswith(\"jpg\"):\n",
    "            new_filename = filename[:-4]\n",
    "            # Rename the file\n",
    "            old_path = os.path.join(folder_path, filename)\n",
    "            new_path = os.path.join(folder_path, new_filename)\n",
    "            os.rename(old_path, new_path)\n",
    "            # print(f\"Renamed: {filename} -> {new_filename}\")\n",
    "\n",
    "path = 'images/size-256/MPDD/MPDD/pytorch/val/'\n",
    "remove_duplicate_extension(path)\n"
   ]
  },
  {
   "cell_type": "code",
   "execution_count": 41,
   "metadata": {},
   "outputs": [],
   "source": [
    "import os\n",
    "\n",
    "def rename_files(folder_path):\n",
    "    # List all files in the folder\n",
    "    files = os.listdir(folder_path)\n",
    "    \n",
    "    # Iterate over each file\n",
    "    for filename in files:\n",
    "        # Split the filename into parts separated by '_'\n",
    "        parts = filename.split('_')\n",
    "        \n",
    "        # Check if the filename contains duplicate segments\n",
    "        if len(parts) > 4 and parts[0] == parts[3] and parts[1] == parts[4]:\n",
    "            # Construct the new filename\n",
    "            new_filename = '_'.join(parts[:3]) + '.jpg'\n",
    "            \n",
    "            # Rename the file\n",
    "            old_path = os.path.join(folder_path, filename)\n",
    "            new_path = os.path.join(folder_path, new_filename)\n",
    "            # os.rename(old_path, new_path)\n",
    "            # print(f\"Renamed: {filename} -> {new_filename}\")\n",
    "            print(old_path)\n",
    "\n",
    "# 173_c1s6_1_173_c1s6_1.jpg to 173_c1s6_1.jpg\n",
    "folder_path = \"images/size-256/MPDD/MPDD/pytorch/val/\"\n",
    "rename_files(folder_path)\n"
   ]
  },
  {
   "cell_type": "code",
   "execution_count": 66,
   "metadata": {},
   "outputs": [
    {
     "name": "stdout",
     "output_type": "stream",
     "text": [
      "0\n",
      "521\n"
     ]
    }
   ],
   "source": [
    "import cv2\n",
    "folder_path = \"images/size-256/MPDD/MPDD/pytorch/gallery\"\n",
    "# read all images in this path using img = cv2.cvtColor(img, cv2.COLOR_BGR2RGB)\n",
    "c=0\n",
    "print(c)\n",
    "for filename in os.listdir(folder_path):\n",
    "    # if filename.endswith('.jpg'):\n",
    "    try:\n",
    "        img = cv2.imread(os.path.join(folder_path, filename))\n",
    "        img = cv2.cvtColor(img, cv2.COLOR_BGR2RGB)\n",
    "        c+=1\n",
    "    except:\n",
    "        print(f\"Error reading file: {filename}\")\n",
    "        continue\n",
    "        # print(img.shape)\n",
    "# img = cv2.imread(folder_path)\n",
    "# img = cv2.cvtColor(img, cv2.COLOR_BGR2RGB)\n",
    "print(c)"
   ]
  },
  {
   "cell_type": "markdown",
   "metadata": {},
   "source": [
    "111 - val\n",
    "921 - train\n",
    "104 - query\n",
    "521 - gallery"
   ]
  },
  {
   "cell_type": "code",
   "execution_count": 67,
   "metadata": {},
   "outputs": [
    {
     "name": "stdout",
     "output_type": "stream",
     "text": [
      "1657\n"
     ]
    }
   ],
   "source": [
    "print(111+921+104+521)"
   ]
  }
 ],
 "metadata": {
  "kernelspec": {
   "display_name": "Python 3",
   "language": "python",
   "name": "python3"
  },
  "language_info": {
   "codemirror_mode": {
    "name": "ipython",
    "version": 3
   },
   "file_extension": ".py",
   "mimetype": "text/x-python",
   "name": "python",
   "nbconvert_exporter": "python",
   "pygments_lexer": "ipython3",
   "version": "3.12.1"
  }
 },
 "nbformat": 4,
 "nbformat_minor": 2
}
